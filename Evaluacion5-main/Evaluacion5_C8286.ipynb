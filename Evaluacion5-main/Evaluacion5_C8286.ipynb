{
  "cells": [
    {
      "cell_type": "markdown",
      "id": "8c4c7836-fd8c-48bf-9575-2d53f8e8c670",
      "metadata": {
        "id": "8c4c7836-fd8c-48bf-9575-2d53f8e8c670"
      },
      "source": [
        "## Evaluacion: Programacion funcional, multiprocessing, asyncio y concurrent.features\n",
        "\n",
        "### ¿Qué es la programación funcional?\n",
        "La base de la programación funcional es la idea matemática de una función, que acepta entradas y devuelve una salida sin cambiar ningún estado. Las funciones pueden asignarse a variables, suministrarse como argumentos a otras funciones y devolverse como valores en la programación funcional, ya que son reconocidas como ciudadanos de primera clase. Este método compositivo facilita la prueba y depuración del código y el razonamiento sobre el comportamiento del programa.\n",
        "\n",
        "La inmutabilidad, transparencia referencial, funciones de orden superior, recursión y evaluación perezosa son algunos de los conceptos fundamentales de la programación funcional. Estas ideas permiten a los programadores crear código declarativo, componible y fácil de entender.\n",
        "\n",
        "En lugar de cambiar el estado, la programación funcional se centra en calcular valores. Por lo tanto, las funciones no tienen efectos secundarios.\n",
        "\n",
        "El paradigma de programación funcional para Python tiene varios beneficios que lo hacen útil para los desarrolladores. Algunos de los beneficios incluyen:\n",
        "\n",
        "- Código conciso y expresivo: Los desarrolladores pueden escribir código que es claro, expresivo y fácil de leer y modificar utilizando la programación funcional. Las funciones de orden superior de Python proporcionan a los programadores un código base listo para modificar que puede tener fácilmente código nuevo añadido según sea necesario, permitiendo así un crecimiento más rápido.\n",
        "- Más fácil de razonar: La programación funcional enfatiza las funciones puras, que no tienen efectos secundarios y dan el mismo resultado para la misma entrada. Esto hace que sea más fácil pensar sobre el comportamiento de una función y cómo afecta al resto del programa.\n",
        "\n",
        "- Paralelismo y concurrencia: Al minimizar estados mutables y efectos secundarios, la programación funcional facilita el paralelismo y la concurrencia. Esto hace que sea más fácil escribir código que puede ejecutarse en paralelo o en múltiples hilos.\n",
        "\n",
        "- Testabilidad: La programación funcional promueve funciones puras, que son más fáciles de verificar porque no tienen efectos secundarios. Esto facilita la escritura de pruebas unitarias y asegura la exactitud de un programa.\n",
        "\n",
        "- Mejora en la modularidad y reutilización: La programación funcional enfatiza funciones pequeñas y modulares que pueden reutilizarse en diferentes partes de un programa. Como resultado, el código se vuelve más modular y es más fácil de mantener y refactorizar.\n",
        "\n",
        "- Interoperabilidad con otros paradigmas: La programación funcional es uno de los varios paradigmas de programación que Python admite. Esto significa que los desarrolladores pueden combinar y contrastar diferentes paradigmas según las necesidades específicas de un programa.\n",
        "\n",
        "\n",
        "Python proporciona varios conceptos de programación funcional que permiten a los desarrolladores escribir código funcional.\n",
        "\n",
        "- Funciones de orden superior: Estos son bloques de código que aceptan otros bloques de código como entrada y producen otros bloques de código como salida. Permiten a los programadores crear código reutilizable y componible.\n",
        "- Funciones anónimas: Estas funciones no tienen nombre. Se generan utilizando la palabra clave lambda y pueden utilizarse en funciones de orden superior.\n",
        "- Estructuras de datos inmutables: Estas son estructuras de datos que, una vez construidas, no pueden ser cambiadas, como las tuplas y los frozensets. Las estructuras de datos inmutables permiten a los programadores crear código más comprensible y seguro para los hilos.\n",
        "- Generadores: Estas son operaciones que permiten pausar y reiniciar. Los generadores facilitan la evaluación perezosa, que es ventajosa para procesar grandes cantidades de datos.\n",
        "- Decoradores: Estas son funciones que modifican cómo otras funciones se comportan. Los decoradores permiten a los programadores extender la funcionalidad de funciones ya escritas sin cambiar el código fuente."
      ]
    },
    {
      "cell_type": "code",
      "execution_count": null,
      "id": "58571417-3b0f-48e3-ba97-9eddfbaf25be",
      "metadata": {
        "id": "58571417-3b0f-48e3-ba97-9eddfbaf25be",
        "outputId": "379b037e-e08b-472f-fdae-623128904061"
      },
      "outputs": [
        {
          "name": "stdout",
          "output_type": "stream",
          "text": [
            "my_function tomó 1.0009305477142334 segundos en ejecutarse.\n"
          ]
        }
      ],
      "source": [
        "# Define una función decoradora que añade información de tiempo a una función\n",
        "import time\n",
        "def time_it(func):\n",
        "    def wrapper(*args, **kwargs):\n",
        "        start = time.time()\n",
        "        result = func(*args, **kwargs)\n",
        "        end = time.time()\n",
        "        print(f\"{func.__name__} tomó {end - start} segundos en ejecutarse.\")\n",
        "        return result\n",
        "    return wrapper\n",
        "# Usa el decorador time_it para medir cuánto tiempo tarda en ejecutarse una función\n",
        "@time_it\n",
        "def my_function():\n",
        "    time.sleep(1)\n",
        "my_function() # Salida: my_function tomó 1.0000739097595215 segundos en ejecutarse.\n"
      ]
    },
    {
      "cell_type": "markdown",
      "id": "eda3fc92-2ef3-4ca3-8c47-c5b2ab7c6438",
      "metadata": {
        "id": "eda3fc92-2ef3-4ca3-8c47-c5b2ab7c6438"
      },
      "source": [
        "* Funciones de primer orden: Como ciudadanos de primera clase, las funciones de Python pueden asignarse a variables, utilizarse como argumentos para otras funciones y tener valores devueltos a ellas. Esto facilita la creación de composiciones de funciones fuertes y funciones de orden superior.\n",
        "* Recursión: Utilizando esta estrategia para dividir un problema más grande en subproblemas más pequeños, se puede usar para resolverlo. La característica de recursión de Python permite la creación de código elegante y conciso para algoritmos complejos.\n",
        "Los desarrolladores de Python pueden escribir código más condensado, expresivo y defensible aprovechando estas técnicas de programación funcional. También pueden utilizar todo el potencial de las características de programación funcional incorporadas de Python para producir programas que son más modulares y reutilizables.\n"
      ]
    },
    {
      "cell_type": "markdown",
      "id": "b54d7dfe-8eab-4e49-97ff-0f937cf00931",
      "metadata": {
        "id": "b54d7dfe-8eab-4e49-97ff-0f937cf00931"
      },
      "source": [
        "### Mejores prácticas para la programación funcional en Python\n",
        "\n",
        "* Usar estructuras de datos inmutables: Las estructuras de datos inmutables, donde una vez creadas no pueden modificarse bajo ninguna circunstancia, como las tuplas y los frozensets, son importantes en la programación funcional porque pueden compartirse de manera segura entre funciones sin riesgo de efectos secundarios no deseados. Las estructuras de datos mutables pueden introducir errores y hacer más difícil razonar sobre tu código. Las estructuras de datos inmutables garantizan seguridad."
      ]
    },
    {
      "cell_type": "code",
      "execution_count": null,
      "id": "0314f830-0a7e-42e3-a4d8-1e299a592fb3",
      "metadata": {
        "id": "0314f830-0a7e-42e3-a4d8-1e299a592fb3",
        "outputId": "6318e078-09e6-4c7e-f799-02338260711a"
      },
      "outputs": [
        {
          "name": "stdout",
          "output_type": "stream",
          "text": [
            "Error: 'tuple' object does not support item assignment\n",
            "Tupla: (1, 2, 3)\n",
            "Frozenset: frozenset({4, 5, 6})\n"
          ]
        }
      ],
      "source": [
        "# Crear una tupla inmutable\n",
        "my_tuple = (1, 2, 3)\n",
        "\n",
        "# Intentar modificar la tupla lanzará un error porque las tuplas son inmutables\n",
        "try:\n",
        "    my_tuple[0] = 0  # Intento de modificar la tupla\n",
        "except TypeError as e:\n",
        "    print(f\"Error: {e}\")  # Mostrar el error esperado\n",
        "\n",
        "# Crear un frozenset, que es una versión inmutable de un conjunto (set)\n",
        "my_frozenset = frozenset([4, 5, 6])  # Crear un frozenset con los elementos 4, 5 y 6\n",
        "\n",
        "# Imprimir la tupla y el frozenset para ver sus contenidos\n",
        "print(\"Tupla:\", my_tuple)\n",
        "print(\"Frozenset:\", my_frozenset)\n",
        "\n"
      ]
    },
    {
      "cell_type": "markdown",
      "id": "2b197227-4b3d-4fc5-b973-58232cc0d671",
      "metadata": {
        "id": "2b197227-4b3d-4fc5-b973-58232cc0d671"
      },
      "source": [
        "* Evitar el estado global: El estado global puede dificultar el razonamiento del código que escribas e introducir errores. En lugar de eso, usa argumentos de función y valores de retorno para pasar datos entre funciones."
      ]
    },
    {
      "cell_type": "code",
      "execution_count": null,
      "id": "78b4e7f4-70a6-4a79-9c65-f201f8636752",
      "metadata": {
        "id": "78b4e7f4-70a6-4a79-9c65-f201f8636752",
        "outputId": "d9df254a-8ae2-4fa7-9513-49c7404c47c8"
      },
      "outputs": [
        {
          "name": "stdout",
          "output_type": "stream",
          "text": [
            "La suma de 2 y 3 es 5\n"
          ]
        }
      ],
      "source": [
        "def calculate_sum(a, b):\n",
        "    return a + b\n",
        "def main():\n",
        "    x = 2\n",
        "    y = 3\n",
        "    result = calculate_sum(x, y)\n",
        "    print(f\"La suma de {x} y {y} es {result}\")\n",
        "if __name__ == \"__main__\":\n",
        "    main()\n"
      ]
    },
    {
      "cell_type": "markdown",
      "id": "3ec39e24-f21e-4f03-a0be-1ebb199df9a9",
      "metadata": {
        "id": "3ec39e24-f21e-4f03-a0be-1ebb199df9a9"
      },
      "source": [
        "* Usar funciones de orden superior: Las funciones de orden superior son funciones que toman otras funciones como entrada o devuelven funciones como salida. Te permiten escribir código que es componible y reutilizable. Python proporciona varias funciones de orden superior integradas, como `map()`, `filter()` y `reduce()`, que se utilizan comúnmente en la programación funcional."
      ]
    },
    {
      "cell_type": "code",
      "execution_count": null,
      "id": "423ef5f5-6250-4921-9ef2-21bee5b4bf01",
      "metadata": {
        "id": "423ef5f5-6250-4921-9ef2-21bee5b4bf01",
        "outputId": "9c2fc4b3-55c0-4101-b958-13d990b160e7"
      },
      "outputs": [
        {
          "name": "stdout",
          "output_type": "stream",
          "text": [
            "[1, 4, 9, 16, 25]\n"
          ]
        }
      ],
      "source": [
        "# Define una función de orden superior que toma una función y la aplica a una lista de números\n",
        "def apply_function(numbers, function):\n",
        "    return [function(number) for number in numbers]\n",
        "# Define una función para elevar al cuadrado un número\n",
        "def square(number):\n",
        "    return number ** 2\n",
        "# Usa la función apply_function para elevar al cuadrado una lista de números\n",
        "numbers = [1, 2, 3, 4, 5]\n",
        "squared_numbers = apply_function(numbers, square)\n",
        "print(squared_numbers) # Salida: [1, 4, 9, 16, 25]\n"
      ]
    },
    {
      "cell_type": "markdown",
      "id": "1e53c89b-b4d8-4291-b418-f5aebd995273",
      "metadata": {
        "id": "1e53c89b-b4d8-4291-b418-f5aebd995273"
      },
      "source": [
        "* Usar recursión: Mediante el uso del poder de la recursión podemos resolver el problema dividiéndolos en subproblemas más pequeños. Python sí soporta la recursión y ayuda a escribir código elegante y conciso incluso para problemas complejos que existen.\n"
      ]
    },
    {
      "cell_type": "code",
      "execution_count": null,
      "id": "8a865da6-4bfd-4b68-ae73-944761897f3f",
      "metadata": {
        "id": "8a865da6-4bfd-4b68-ae73-944761897f3f",
        "outputId": "5d7e8016-73dc-4af2-c7a9-c31e37809df7"
      },
      "outputs": [
        {
          "name": "stdout",
          "output_type": "stream",
          "text": [
            "120\n"
          ]
        }
      ],
      "source": [
        "# Define una función recursiva para calcular el factorial de un número\n",
        "# ejemplo clásico de factorial aquí\n",
        "def factorial(n):\n",
        "    if n == 0:\n",
        "        return 1\n",
        "    else:\n",
        "        return n * factorial(n - 1)\n",
        "# Usa la función para calcular el factorial de 5\n",
        "result = factorial(5)\n",
        "print(result) # Salida: 120\n"
      ]
    },
    {
      "cell_type": "markdown",
      "id": "52385590-86ee-4d18-a698-513586710e4a",
      "metadata": {
        "id": "52385590-86ee-4d18-a698-513586710e4a"
      },
      "source": [
        "* Usar funciones lambda: Las funciones anónimas que se pueden utilizar para crear funciones simples de una línea se denominan funciones Lambda en Python. A menudo se utilizan en conjunto con funciones de orden superior, como map(), filter() y reduce(), para escribir código conciso y expresivo."
      ]
    },
    {
      "cell_type": "code",
      "execution_count": null,
      "id": "13c4594d-0e9a-4d24-8424-fce3d36a545b",
      "metadata": {
        "id": "13c4594d-0e9a-4d24-8424-fce3d36a545b",
        "outputId": "2c9dbb76-17a7-4264-90fe-a9fcaea0b914"
      },
      "outputs": [
        {
          "name": "stdout",
          "output_type": "stream",
          "text": [
            "[1, 4, 9, 16, 25]\n"
          ]
        }
      ],
      "source": [
        "# Define una función lambda para elevar al cuadrado un número\n",
        "square = lambda x: x ** 2\n",
        "# Usa la función lambda para elevar al cuadrado una lista de números\n",
        "numbers = [1, 2, 3, 4, 5]\n",
        "squared_numbers = list(map(lambda x: x ** 2, numbers))\n",
        "print(squared_numbers) # Salida: [1, 4, 9, 16, 25]\n"
      ]
    },
    {
      "cell_type": "markdown",
      "id": "509975f6-ecef-4174-89ed-2bb02ab6ccad",
      "metadata": {
        "id": "509975f6-ecef-4174-89ed-2bb02ab6ccad"
      },
      "source": [
        "* Escribir funciones puras: Una función pura es una función que no tiene efectos secundarios y siempre devuelve la misma salida para la misma entrada. En otras palabras, una función pura no modifica ningún estado o variable externo y solo opera sobre sus parámetros de entrada. Las funciones puras son importantes en la programación funcional porque son predecibles y fáciles de razonar, lo que las hace más fáciles de probar, depurar y mantener."
      ]
    },
    {
      "cell_type": "code",
      "execution_count": null,
      "id": "2dacad96-e37c-4831-a1cd-b74fa7954ab9",
      "metadata": {
        "id": "2dacad96-e37c-4831-a1cd-b74fa7954ab9"
      },
      "outputs": [],
      "source": [
        "def add(a, b):\n",
        "    return a + b\n"
      ]
    },
    {
      "cell_type": "markdown",
      "id": "663449e3-f232-428f-9e15-c1cd123e2b2e",
      "metadata": {
        "id": "663449e3-f232-428f-9e15-c1cd123e2b2e"
      },
      "source": [
        "* Usar generadores: Los generadores son funciones que pueden pausarse y reanudarse. Permiten la evaluación perezosa, que puede ser útil para procesar grandes cantidades de datos. Al usar generadores, puedes evitar cargar todos los datos en la memoria a la vez y procesarlos de manera más eficiente en términos de memoria"
      ]
    },
    {
      "cell_type": "code",
      "execution_count": null,
      "id": "a0322fae-dc08-4978-9111-b68c7c1102e0",
      "metadata": {
        "id": "a0322fae-dc08-4978-9111-b68c7c1102e0",
        "outputId": "c3460521-0932-461b-9430-11aa06179f7f"
      },
      "outputs": [
        {
          "name": "stdout",
          "output_type": "stream",
          "text": [
            "[0, 1, 1, 2, 3, 5, 8, 13, 21, 34]\n"
          ]
        }
      ],
      "source": [
        "# Define una función generadora para generar la secuencia de Fibonacci\n",
        "def fibonacci():\n",
        "    a, b = 0, 1\n",
        "    while True:\n",
        "        yield a\n",
        "        a, b = b, a + b\n",
        "# Usa la función generadora para generar los primeros 10 números en la secuencia de Fibonacci\n",
        "fib = fibonacci()\n",
        "fib_numbers = [next(fib) for _ in range(10)]\n",
        "print(fib_numbers) # Salida: [0, 1, 1, 2, 3, 5, 8, 13, 21, 34]\n"
      ]
    },
    {
      "cell_type": "markdown",
      "id": "5bdf9cba-b727-4ade-9879-30d9a1f856eb",
      "metadata": {
        "id": "5bdf9cba-b727-4ade-9879-30d9a1f856eb"
      },
      "source": [
        "* Probar tu código: Probar es importante en la programación funcional porque puede ayudarte a detectar errores temprano y asegurar que tus funciones se comporten correctamente. Escribe casos de prueba para tus funciones y usa herramientas como pytest para automatizar tus pruebas."
      ]
    },
    {
      "cell_type": "code",
      "execution_count": null,
      "id": "6cacf0f1-944c-4699-8d40-679dc8257496",
      "metadata": {
        "id": "6cacf0f1-944c-4699-8d40-679dc8257496"
      },
      "outputs": [],
      "source": [
        "def calculate_sum(a, b):\n",
        "    return a + b\n",
        "def test_calculate_sum():\n",
        "    assert calculate_sum(2, 3) == 5\n",
        "    assert calculate_sum(0, 0) == 0\n",
        "if __name__ == \"__main__\":\n",
        "    test_calculate_sum()\n"
      ]
    },
    {
      "cell_type": "markdown",
      "id": "29f4059f-cd21-4399-9f7e-c0ca955af553",
      "metadata": {
        "id": "29f4059f-cd21-4399-9f7e-c0ca955af553"
      },
      "source": [
        "#### Errores comunes en la programación funcional en Python y cómo evitarlos\n",
        "La programación funcional es un poderoso paradigma de programación que enfatiza el uso de funciones puras, datos inmutables, un estilo de programación declarativo y hace énfasis en las pruebas. Sin embargo, incluso los desarrolladores experimentados pueden cometer algunos errores comunes de programación funcional en Python. Es importante evitar los errores más comunes. Discutiremos algunos de estos errores y cómo evitarlos.\n",
        "\n",
        "* Modificar estructuras de datos mutables: El uso de estructuras de datos inmutables es uno de los principales principios de la programación funcional. Sin embargo, Python ofrece una serie de estructuras de datos mutables que pueden ser cambiadas mientras aún están en uso, como las listas y los diccionarios. La modificación de una estructura de datos mutable puede resultar en un comportamiento inesperado y hacer que el código sea difícil de entender. Usa estructuras de datos inmutables o duplica estructuras de datos mutables antes de hacer cambios en ellas para evitar cometer este error.\n",
        "\n",
        "* Usar variables globales: El código que usa variables globales puede ser difícil de interpretar y probar. Evita utilizar variables globales completamente cuando uses la programación funcional. En su lugar, transmite datos entre funciones utilizando argumentos de función y valores de retorno.\n",
        "* Usar bucles en lugar de funciones de orden superior: Aunque se utilizan con frecuencia en la programación imperativa, los bucles pueden hacer que el código sea más difícil de leer y mantener. Cuando se manipulan colecciones de datos en la programación funcional, es preferible usar funciones de orden superior como map, filter y reduce. Estas funciones ofrecen un medio declarativo de comunicar la intención del código y pueden facilitar el razonamiento sobre él.\n",
        "\n",
        "* No aprovechar la evaluación perezosa: Un método conocido como evaluación perezosa pospone la evaluación de una expresión hasta que su valor es realmente necesario. En Python, se pueden usar generadores e iteradores para implementar la evaluación perezosa. La falta de uso de la evaluación perezosa puede resultar en un mayor uso de la memoria y un rendimiento lento. Usa generadores e iteradores cuando trabajes con grandes conjuntos de datos para evitar cometer este error.\n",
        "\n",
        "* No usar la recursión: La recursión es un concepto fundamental en la programación funcional y una herramienta potente para la resolución de problemas de manera declarativa. Pero si la profundidad de la recursión es demasiado grande, Python tiene un límite de recursión predeterminado que se puede alcanzar rápidamente. Usa la recursión de cola o cambia los algoritmos recursivos a iterativos para evitar cometer este error."
      ]
    },
    {
      "cell_type": "markdown",
      "id": "e8c1ac52-b3c5-4037-ac2a-7efb137e9725",
      "metadata": {
        "id": "e8c1ac52-b3c5-4037-ac2a-7efb137e9725"
      },
      "source": [
        "#### Ventajas de la programación funcional en Python\n",
        "\n",
        "* Previsibilidad: Es crucial tener un código previsible, ya que facilita las pruebas y la depuración. Cuando una función incluye efectos secundarios, puede ser más difícil predecir cómo se comportará en ciertas circunstancias. Las funciones puras son esenciales para la programación funcional porque hacen que sea fácil predecir el resultado de una función dado un cierto insumo. Ventaja probada para el desarrollador.\n",
        "\n",
        "* Modularidad: La programación funcional facilita la evitación más simple de errores causados por estados mutables y efectos secundarios mediante el uso de funciones puras e inmutabilidad.\n",
        "\n",
        "* Concurrencia y paralelismo: Debido a la facilidad de crear aplicaciones multi-hilo o multi-proceso, las funciones pueden ejecutarse simultáneamente sin correr el riesgo de colisionar. Hacer que no haya problema para situaciones de carrera y problemas de sincronización no es una preocupación porque las funciones no dependen de ningún estado externo. Además, la programación funcional promueve el uso de estructuras de datos inmutables y alienta la escritura de funciones puras, lo que facilita la escritura de código paralelo y concurrente.\n",
        "\n",
        "* Optimización y refactorización del código: Dado que las funciones tienen salidas predecibles, el compilador o intérprete puede hacer suposiciones sobre cómo se comportará la función y optimizar en consecuencia. Esto hace que la programación funcional sea una buena opción para aplicaciones que necesitan ser altamente eficientes.\n",
        "\n",
        "* Legibilidad, reutilización y mantenibilidad: Los pequeños funciones reutilizables pueden ser utilizadas por los desarrolladores para construir programas más complejos gracias a la programación funcional. Además, promueve el uso de funciones y desalienta el uso de efectos secundarios, haciendo que el código sea más fácil de leer y entender. Esto reduce la complejidad del código y lo hace más fácil de mantener.\n",
        "\n",
        "* Testabilidad: Con el uso de funciones puras, la programación funcional facilita la prueba del código, ya que asegura que la salida de una función solo dependa de su entrada.\n",
        "\n",
        "* Evitación de errores: Al usar los métodos mencionados anteriormente cuando se combinan, ayuda a evitar errores fácilmente para que el desarrollador detecte cualquier error y lo resuelva."
      ]
    },
    {
      "cell_type": "markdown",
      "id": "691420b9-580b-45eb-bfed-73f1249a0cbe",
      "metadata": {
        "id": "691420b9-580b-45eb-bfed-73f1249a0cbe"
      },
      "source": [
        "## Ejercicios\n",
        "\n",
        "Presenta tus respuestas en tu repositorio personal. Estos ejercicios proporcionan un reto significativo que pone a prueba tus habilidades en programación funcional, así como tu capacidad para integrar y optimizar la computación paralela y concurrente en aplicaciones reales y complejas.\n",
        "\n",
        "#### Ejercicio 1: Sistema de procesamiento de imágenes en tiempo real\n",
        "Desarrollar un sistema que procese imágenes en tiempo real para detectar y clasificar objetos, utilizando programación funcional para el manejo de las transformaciones de imágenes y concurrent.futures para procesar múltiples flujos de imágenes simultáneamente.\n",
        "\n",
        "**Descripción:**\n",
        "\n",
        "- Implementa funciones puras para cada paso del procesamiento de imágenes, como filtrado, detección de bordes, y clasificación de objetos.\n",
        "- Utiliza concurrent.futures.ThreadPoolExecutor para paralelizar el procesamiento de imágenes provenientes de múltiples fuentes en tiempo real.\n",
        "- Emplea asyncio para manejar asincrónicamente la entrada/salida de imágenes y la integración con sistemas de almacenamiento o bases de datos.\n",
        "Asegurar que todas las operaciones sobre los datos de las imágenes sean inmutables para evitar efectos secundarios no deseados.\n",
        "\n",
        "Adicional:\n",
        "\n",
        "- Integra el sistema con una interfaz web en tiempo real donde los usuarios puedan cargar imágenes y recibir resultados inmediatamente.\n",
        "\n",
        "**Sugerencias**\n",
        "\n",
        "1 .Primero, definiremos algunas funciones puras para realizar operaciones básicas de procesamiento de imágenes, como la conversión a escala de grises y la detección de bordes. Usaremos Pillow (PIL) para las operaciones de imagen:"
      ]
    },
    {
      "cell_type": "code",
      "execution_count": null,
      "id": "2d87c5f1-de7c-463c-b909-d00e39f0f03a",
      "metadata": {
        "id": "2d87c5f1-de7c-463c-b909-d00e39f0f03a"
      },
      "outputs": [],
      "source": [
        "from PIL import Image, ImageFilter\n",
        "\n",
        "def convert_to_grayscale(image):\n",
        "    \"\"\"Convierte la imagen a escala de grises.\"\"\"\n",
        "    return image.convert('L')\n",
        "\n",
        "def apply_edge_detection(image):\n",
        "    \"\"\"Aplica detección de bordes a la imagen.\"\"\"\n",
        "    return image.filter(ImageFilter.FIND_EDGES)\n"
      ]
    },
    {
      "cell_type": "markdown",
      "id": "731e023c-b881-4632-8382-2a8e1254c9a6",
      "metadata": {
        "id": "731e023c-b881-4632-8382-2a8e1254c9a6"
      },
      "source": [
        "2 . Función decoradora para paralelizar el procesamiento\n",
        "\n",
        "A continuación, usaremos un decorador para medir el tiempo que tarda cada operación y paralelizar el procesamiento utilizando ThreadPoolExecutor de concurrent.futures:\n",
        "\n"
      ]
    },
    {
      "cell_type": "code",
      "execution_count": null,
      "id": "da09ee7e-9132-4e9d-9b80-1c4232b99fb8",
      "metadata": {
        "id": "da09ee7e-9132-4e9d-9b80-1c4232b99fb8"
      },
      "outputs": [],
      "source": [
        "import time\n",
        "from concurrent.futures import ThreadPoolExecutor\n",
        "from functools import wraps\n",
        "\n",
        "def time_it(func):\n",
        "    \"\"\"Decorador que mide el tiempo de ejecución de una función.\"\"\"\n",
        "    @wraps(func)\n",
        "    def wrapper(*args, **kwargs):\n",
        "        start = time.time()\n",
        "        result = func(*args, **kwargs)\n",
        "        end = time.time()\n",
        "        print(f\"{func.__name__} took {end - start:.2f} seconds to run.\")\n",
        "        return result\n",
        "    return wrapper\n",
        "\n",
        "def parallelize_image_processing(function):\n",
        "    \"\"\"Decorador que paraleliza el procesamiento de imágenes.\"\"\"\n",
        "    @wraps(function)\n",
        "    def wrapper(images):\n",
        "        with ThreadPoolExecutor(max_workers=5) as executor:\n",
        "            results = list(executor.map(function, images))\n",
        "        return results\n",
        "    return wrapper\n"
      ]
    },
    {
      "cell_type": "markdown",
      "id": "8189cef0-4c86-4fd5-ae2b-2a1fb424d26e",
      "metadata": {
        "id": "8189cef0-4c86-4fd5-ae2b-2a1fb424d26e"
      },
      "source": [
        "3 . Procesamiento asíncrono y concurrente de imágenes\n",
        "\n",
        "Finalmente, integramos asyncio para manejar el flujo de imágenes de entrada y salida, y aplicamos los decoradores a nuestras funciones de procesamiento:"
      ]
    },
    {
      "cell_type": "code",
      "execution_count": null,
      "id": "88c1d9d3-70da-4e56-9361-1af2f57a5c8a",
      "metadata": {
        "id": "88c1d9d3-70da-4e56-9361-1af2f57a5c8a"
      },
      "outputs": [],
      "source": [
        "import asyncio\n",
        "\n",
        "@time_it\n",
        "@parallelize_image_processing\n",
        "def process_images(images):\n",
        "    \"\"\"Procesa una lista de imágenes aplicando las funciones de procesamiento.\"\"\"\n",
        "    processed_images = [convert_to_grayscale(img) for img in images]\n",
        "    processed_images = [apply_edge_detection(img) for img in processed_images]\n",
        "    return processed_images\n",
        "\n",
        "async def main():\n",
        "    # Simulando la carga de imágenes\n",
        "    images = [Image.open(f'image_{i}.jpg') for i in range(10)]  # Asegúrate de tener imágenes disponibles\n",
        "    processed_images = process_images(images)\n",
        "    # Aquí podrías guardar las imágenes procesadas o enviarlas a otro servicio\n",
        "\n",
        "if __name__ == \"__main__\":\n",
        "    asyncio.run(main())\n"
      ]
    },
    {
      "cell_type": "markdown",
      "id": "60a877cd-7f3b-4a5a-82b7-e41a0dc10946",
      "metadata": {
        "id": "60a877cd-7f3b-4a5a-82b7-e41a0dc10946"
      },
      "source": [
        "#### Ejercicio 2: Simulación de sistema de reservas con alta concurrencia\n",
        "\n",
        "Crea una simulación de un sistema de reservas (como para hoteles o vuelos) que pueda manejar un alto volumen de peticiones concurrentes sin conflictos de datos.\n",
        "\n",
        "**Descripción:**\n",
        "\n",
        "- Diseña funciones puras para manejar la lógica de reservas, cancelaciones, y modificaciones de reservas.\n",
        "- Utiliza asyncio para manejar múltiples solicitudes de clientes de manera asincrónica.\n",
        "- Emplea multiprocessing para distribuir la carga de trabajo a través de múltiples procesos y aprovechar múltiples núcleos de CPU, especialmente para tareas que requieren intensos cálculos o procesamiento de datos.\n",
        "- Implementar mecanismos de sincronización y control de concurrencia para asegurar la consistencia y la integridad de los datos en un entorno de múltiples usuarios.\n",
        "\n",
        "Adicional:\n",
        "\n",
        "- Simula un escenario de \"Black Friday\" donde se espera un pico de demanda y evaluar el rendimiento y la escalabilidad del sistema.\n",
        "\n",
        "**Sugerencias:**\n",
        "\n",
        "1 .Definición de funciones puras para lógica de reservas\n",
        "\n",
        "Primero, definimos algunas funciones puras que manipulan el estado de las reservas sin producir efectos secundarios:"
      ]
    },
    {
      "cell_type": "code",
      "execution_count": null,
      "id": "e23d648d-7fa1-4558-b9ad-20df3e138e31",
      "metadata": {
        "id": "e23d648d-7fa1-4558-b9ad-20df3e138e31"
      },
      "outputs": [],
      "source": [
        "def add_reservation(reservations, reservation):\n",
        "    \"\"\"Agrega una nueva reserva a la lista de reservas de manera inmutable.\"\"\"\n",
        "    return reservations + [reservation]\n",
        "\n",
        "def cancel_reservation(reservations, reservation_id):\n",
        "    \"\"\"Cancela una reserva por ID, inmutablemente.\"\"\"\n",
        "    return [res for res in reservations if res['id'] != reservation_id]\n",
        "\n",
        "def update_reservation(reservations, reservation_id, new_details):\n",
        "    \"\"\"Actualiza una reserva por ID, inmutablemente.\"\"\"\n",
        "    return [res if res['id'] != reservation_id else {**res, **new_details} for res in reservations]\n"
      ]
    },
    {
      "cell_type": "markdown",
      "id": "05073421-7ed9-40f2-9876-caf31dd6db50",
      "metadata": {
        "id": "05073421-7ed9-40f2-9876-caf31dd6db50"
      },
      "source": [
        "2 . Manejo de concurrencia con concurrent.futures\n",
        "\n",
        "Usaremos ThreadPoolExecutor para simular el procesamiento paralelo de solicitudes de reserva:"
      ]
    },
    {
      "cell_type": "code",
      "execution_count": null,
      "id": "5e69df4e-f68c-4646-9128-e0242281fd06",
      "metadata": {
        "id": "5e69df4e-f68c-4646-9128-e0242281fd06"
      },
      "outputs": [],
      "source": [
        "from concurrent.futures import ThreadPoolExecutor\n",
        "import copy\n",
        "\n",
        "def process_booking_requests(requests):\n",
        "    \"\"\"Procesa una lista de solicitudes de reserva concurrentemente.\"\"\"\n",
        "    with ThreadPoolExecutor(max_workers=5) as executor:\n",
        "        results = list(executor.map(handle_request, requests))\n",
        "    return results\n",
        "\n",
        "def handle_request(request):\n",
        "    \"\"\"Maneja una solicitud individual simulando cierta lógica y tiempo de procesamiento.\"\"\"\n",
        "    # Simulación de procesamiento: modificar según la lógica de negocio\n",
        "    time.sleep(random.uniform(0.1, 0.5))  # Simular tiempo de procesamiento\n",
        "    return f\"Processed request {request['id']} with status: {request['status']}\"\n"
      ]
    },
    {
      "cell_type": "markdown",
      "id": "d0d3ef54-6c63-40b6-bba8-8059916886bb",
      "metadata": {
        "id": "d0d3ef54-6c63-40b6-bba8-8059916886bb"
      },
      "source": [
        "3 . Integración con asyncio para Asincronía\n",
        "\n",
        "Integraremos asyncio para simular un sistema que maneje solicitudes de reserva de manera asincrónica:"
      ]
    },
    {
      "cell_type": "code",
      "execution_count": null,
      "id": "2d9e185a-9325-424b-ad49-d037f7d07d66",
      "metadata": {
        "id": "2d9e185a-9325-424b-ad49-d037f7d07d66"
      },
      "outputs": [],
      "source": [
        "import asyncio\n",
        "\n",
        "async def manage_reservations(requests):\n",
        "    \"\"\"Gestiona reservas asincrónicamente.\"\"\"\n",
        "    loop = asyncio.get_running_loop()\n",
        "    future = loop.run_in_executor(None, process_booking_requests, requests)\n",
        "    result = await future\n",
        "    print(result)\n",
        "\n",
        "async def simulate_requests():\n",
        "    \"\"\"Simula la llegada de solicitudes de reserva.\"\"\"\n",
        "    requests = [{'id': i, 'status': 'new'} for i in range(10)]  # Simular 10 solicitudes\n",
        "    await manage_reservations(requests)\n",
        "\n",
        "if __name__ == \"__main__\":\n",
        "    asyncio.run(simulate_requests())\n"
      ]
    },
    {
      "cell_type": "markdown",
      "id": "07063a04-c845-4798-8538-70a6687d1bd9",
      "metadata": {
        "id": "07063a04-c845-4798-8538-70a6687d1bd9"
      },
      "source": [
        "#### Ejercicio 3: Análisis y visualización de datos de tráfico en tiempo real\n",
        "\n",
        "Construye una aplicación que recoja, procese y visualice datos de tráfico en tiempo real para una ciudad, utilizando programación funcional para el análisis de datos y asyncio junto con concurrent.futures para el procesamiento concurrente.\n",
        "\n",
        "**Descripción:**\n",
        "\n",
        "- Recoge datos de tráfico de múltiples fuentes, como cámaras de tráfico y sensores en carreteras.\n",
        "- Implementa funciones puras para calcular métricas de tráfico, como velocidad media, densidad de tráfico, y tiempos de viaje estimados.\n",
        "- Usa asyncio para procesar datos de tráfico de manera asincrónica.\n",
        "- Aplica concurrent.futures.ProcessPoolExecutor para realizar análisis de datos pesados en paralelo.\n",
        "- Desarrollar una interfaz de usuario que muestre en tiempo real los datos de tráfico y las métricas en un mapa interactivo.\n",
        "\n",
        "Adicional:\n",
        "\n",
        "- Predice patrones de tráfico y congestiones utilizando modelos de machine learning sobre los datos procesados.\n",
        "\n",
        "**Sugerencias:**\n",
        "\n",
        "1 . Definición de funciones puras para análisis de datos\n",
        "\n",
        "Primero, vamos a definir algunas funciones puras para calcular métricas comunes en datos de tráfico, como la velocidad promedio y el volumen de tráfico:"
      ]
    },
    {
      "cell_type": "code",
      "execution_count": null,
      "id": "4645ba72-5842-4004-bdc8-0ef9d42c4023",
      "metadata": {
        "id": "4645ba72-5842-4004-bdc8-0ef9d42c4023"
      },
      "outputs": [],
      "source": [
        "def calculate_average_speed(data):\n",
        "    \"\"\"Calcula la velocidad promedio a partir de datos de velocidad recogidos.\"\"\"\n",
        "    total_speed = sum(d['speed'] for d in data)\n",
        "    count = len(data)\n",
        "    return total_speed / count if count else 0\n",
        "\n",
        "def calculate_traffic_volume(data):\n",
        "    \"\"\"Calcula el volumen de tráfico a partir de datos de conteo de vehículos.\"\"\"\n",
        "    return sum(d['vehicles'] for d in data)\n"
      ]
    },
    {
      "cell_type": "markdown",
      "id": "f82c109b-ee83-46f2-8003-7df508814419",
      "metadata": {
        "id": "f82c109b-ee83-46f2-8003-7df508814419"
      },
      "source": [
        "2 . Uso de concurrent.futures para paralelizar el procesamiento de datos\n",
        "\n",
        "Vamos a utilizar concurrent.futures para procesar datos de tráfico provenientes de múltiples ubicaciones en paralelo, lo que puede ser crucial durante las horas pico:\n"
      ]
    },
    {
      "cell_type": "code",
      "execution_count": null,
      "id": "9943d8f9-138b-457b-98e8-2ba721720c52",
      "metadata": {
        "id": "9943d8f9-138b-457b-98e8-2ba721720c52"
      },
      "outputs": [],
      "source": [
        "from concurrent.futures import ProcessPoolExecutor\n",
        "\n",
        "def process_traffic_data(locations_data):\n",
        "    \"\"\"Procesa datos de múltiples ubicaciones utilizando procesamiento en paralelo.\"\"\"\n",
        "    with ProcessPoolExecutor() as executor:\n",
        "        results = list(executor.map(process_single_location, locations_data))\n",
        "    return results\n",
        "\n",
        "def process_single_location(location_data):\n",
        "    \"\"\"Procesa los datos de tráfico de una única ubicación.\"\"\"\n",
        "    average_speed = calculate_average_speed(location_data)\n",
        "    traffic_volume = calculate_traffic_volume(location_data)\n",
        "    return {'location': location_data['location'], 'average_speed': average_speed, 'traffic_volume': traffic_volume}\n"
      ]
    },
    {
      "cell_type": "markdown",
      "id": "adcc80ed-2e5a-4dc1-a4a8-6c5f0e43555b",
      "metadata": {
        "id": "adcc80ed-2e5a-4dc1-a4a8-6c5f0e43555b"
      },
      "source": [
        "3 . Integración con asyncio para manejo asíncrono\n",
        "\n",
        "Incorporamos asyncio para simular la recolección y procesamiento asíncrono de datos de tráfico, así como para actualizar la interfaz de usuario:"
      ]
    },
    {
      "cell_type": "code",
      "execution_count": null,
      "id": "d1a6e912-a0fe-445e-85dc-ddb2fa694e8d",
      "metadata": {
        "id": "d1a6e912-a0fe-445e-85dc-ddb2fa694e8d"
      },
      "outputs": [],
      "source": [
        "import asyncio\n",
        "\n",
        "async def update_traffic_data():\n",
        "    \"\"\"Actualiza periódicamente los datos de tráfico y la visualización.\"\"\"\n",
        "    while True:\n",
        "        locations_data = fetch_traffic_data()  # Esta función debe ser implementada para recoger datos\n",
        "        processed_data = await asyncio.get_event_loop().run_in_executor(None, process_traffic_data, locations_data)\n",
        "        update_visualization(processed_data)  # Esta función debe actualizar la interfaz de usuario\n",
        "        await asyncio.sleep(10)  # Actualiza cada 10 segundos\n",
        "\n",
        "def fetch_traffic_data():\n",
        "    \"\"\"Simula la recolección de datos de tráfico de múltiples sensores.\"\"\"\n",
        "    # Esta función debe implementarse para interactuar con sensores o APIs\n",
        "    return [{'location': 'Location A', 'speed': [40, 50, 55], 'vehicles': [100, 120, 130]},\n",
        "            {'location': 'Location B', 'speed': [30, 35, 40], 'vehicles': [90, 110, 115]}]\n",
        "\n",
        "def update_visualization(data):\n",
        "    \"\"\"Actualiza una interfaz de usuario o un dashboard con los últimos datos procesados.\"\"\"\n",
        "    # Esta función debe ser implementada para mostrar datos actualizados\n",
        "    print(\"Updated visualization with:\", data)\n",
        "\n",
        "if __name__ == \"__main__\":\n",
        "    asyncio.run(update_traffic_data())\n"
      ]
    },
    {
      "cell_type": "markdown",
      "id": "c7ae193a-a733-4d9a-8b7f-f24cd817a191",
      "metadata": {
        "id": "c7ae193a-a733-4d9a-8b7f-f24cd817a191"
      },
      "source": [
        "#### Ejercicio 4: Sistema de análisis de sentimiento en tiempo real para redes sociales\n",
        "\n",
        "Desarrolla un sistema que monitoree y analice en tiempo real los sentimientos de los usuarios en redes sociales, utilizando principios de programación funcional para procesar los textos y asyncio para manejar múltiples flujos de datos.\n",
        "\n",
        "**Descripción:**\n",
        "\n",
        "- Crea funciones puras para limpiar y pre-procesar los textos recolectados de las redes sociales.\n",
        "- Implementa análisis de sentimiento utilizando una librería de procesamiento de lenguaje natural, asegurando que las funciones sean inmutables y sin efectos secundarios.\n",
        "- Utiliza asyncio para recoger datos simultáneamente de varias plataformas de redes sociales.\n",
        "- Emplea concurrent.futures para procesar y analizar los datos de sentimiento en paralelo, mejorando la capacidad de respuesta del sistema.\n",
        "\n",
        "**Sugerencias:**\n",
        "\n",
        "1 . Primero, definiremos funciones puras para realizar el pre-procesamiento de los textos extraídos de las redes sociales, como la eliminación de stopwords, tokenización y normalización:"
      ]
    },
    {
      "cell_type": "code",
      "execution_count": null,
      "id": "8dc55098-b10c-4da1-aa02-7da2dcb94e5a",
      "metadata": {
        "id": "8dc55098-b10c-4da1-aa02-7da2dcb94e5a"
      },
      "outputs": [],
      "source": [
        "import re\n",
        "from nltk.corpus import stopwords\n",
        "from nltk.tokenize import word_tokenize\n",
        "\n",
        "stop_words = set(stopwords.words('english'))\n",
        "\n",
        "def clean_text(text):\n",
        "    \"\"\"Limpia el texto eliminando caracteres especiales y convirtiéndolo a minúsculas.\"\"\"\n",
        "    text = re.sub(r'\\W', ' ', text)\n",
        "    text = text.lower()\n",
        "    return text\n",
        "\n",
        "def remove_stopwords(text):\n",
        "    \"\"\"Elimina las stopwords de un texto.\"\"\"\n",
        "    words = word_tokenize(text)\n",
        "    filtered_words = [word for word in words if word not in stop_words]\n",
        "    return ' '.join(filtered_words)\n",
        "\n",
        "def preprocess_text(text):\n",
        "    \"\"\"Combina todas las operaciones de preprocesamiento de texto.\"\"\"\n",
        "    text = clean_text(text)\n",
        "    text = remove_stopwords(text)\n",
        "    return text\n"
      ]
    },
    {
      "cell_type": "markdown",
      "id": "a8ed21c2-5863-491e-a9af-0430cdfe34a6",
      "metadata": {
        "id": "a8ed21c2-5863-491e-a9af-0430cdfe34a6"
      },
      "source": [
        "2 . Función para análisis de sentimiento\n",
        "\n",
        "Usaremos una librería externa, como TextBlob, para realizar análisis de sentimiento, y encapsularemos esta operación en una función pura:"
      ]
    },
    {
      "cell_type": "code",
      "execution_count": null,
      "id": "cd954ad9-1c58-4e11-bf13-6dc6c493c394",
      "metadata": {
        "id": "cd954ad9-1c58-4e11-bf13-6dc6c493c394"
      },
      "outputs": [],
      "source": [
        "from textblob import TextBlob\n",
        "\n",
        "def analyze_sentiment(text):\n",
        "    \"\"\"Analiza el sentimiento de un texto dado y devuelve el resultado.\"\"\"\n",
        "    analysis = TextBlob(text)\n",
        "    return analysis.sentiment\n"
      ]
    },
    {
      "cell_type": "markdown",
      "id": "9f990296-1088-429f-81cd-52607058b85c",
      "metadata": {
        "id": "9f990296-1088-429f-81cd-52607058b85c"
      },
      "source": [
        "3 . Uso de concurrent.futures para paralelizar el análisis\n",
        "\n",
        "Utilizaremos concurrent.futures para procesar y analizar los datos de sentimiento en paralelo:"
      ]
    },
    {
      "cell_type": "code",
      "execution_count": null,
      "id": "825176b8-6702-4cea-a697-3c49578237fa",
      "metadata": {
        "id": "825176b8-6702-4cea-a697-3c49578237fa"
      },
      "outputs": [],
      "source": [
        "from concurrent.futures import ThreadPoolExecutor\n",
        "\n",
        "def analyze_texts_concurrently(texts):\n",
        "    \"\"\"Analiza una lista de textos concurrentemente.\"\"\"\n",
        "    with ThreadPoolExecutor(max_workers=10) as executor:\n",
        "        results = list(executor.map(preprocess_and_analyze, texts))\n",
        "    return results\n",
        "\n",
        "def preprocess_and_analyze(text):\n",
        "    \"\"\"Preprocesa y analiza el sentimiento de un texto.\"\"\"\n",
        "    preprocessed_text = preprocess_text(text)\n",
        "    sentiment = analyze_sentiment(preprocessed_text)\n",
        "    return sentiment"
      ]
    },
    {
      "cell_type": "markdown",
      "id": "dcbb64ba-bc50-40eb-9455-a6243dfb6015",
      "metadata": {
        "id": "dcbb64ba-bc50-40eb-9455-a6243dfb6015"
      },
      "source": [
        "4 . Integración con asyncio para manejo asíncrono\n",
        "\n",
        "Incorporaremos asyncio para gestionar asincrónicamente la recolección y procesamiento de datos:"
      ]
    },
    {
      "cell_type": "code",
      "execution_count": null,
      "id": "4cb365ca-2393-46cd-ac90-74c388182140",
      "metadata": {
        "id": "4cb365ca-2393-46cd-ac90-74c388182140"
      },
      "outputs": [],
      "source": [
        "import asyncio\n",
        "\n",
        "async def collect_and_process_data(stream_data):\n",
        "    \"\"\"Asíncronamente recolecta y procesa datos de un flujo.\"\"\"\n",
        "    processed_data = await asyncio.get_event_loop().run_in_executor(None, analyze_texts_concurrently, stream_data)\n",
        "    print(\"Sentiment Analysis Results:\", processed_data)\n",
        "\n",
        "async def simulate_streaming_data():\n",
        "    \"\"\"Simula la llegada de datos de texto de un flujo en tiempo real.\"\"\"\n",
        "    sample_data = [\n",
        "        \"I love this product!\",\n",
        "        \"This is the worst service ever.\",\n",
        "        \"I'm not sure if I like this.\",\n",
        "        \"Absolutely fantastic!\"\n",
        "    ]\n",
        "    await collect_and_process_data(sample_data)\n",
        "\n",
        "if __name__ == \"__main__\":\n",
        "    asyncio.run(simulate_streaming_data())\n"
      ]
    },
    {
      "cell_type": "markdown",
      "id": "34d7fa56-1386-43b5-99de-3e636bf18cb1",
      "metadata": {
        "id": "34d7fa56-1386-43b5-99de-3e636bf18cb1"
      },
      "source": [
        "#### Ejercicio 5: Plataforma de análisis de datos genómicos distribuidos\n",
        "\n",
        "Construye una plataforma para analizar grandes volúmenes de datos genómicos de manera eficiente, utilizando programación funcional para las transformaciones y cálculos, y multiprocessing para el procesamiento paralelo.\n",
        "\n",
        "**Descripción:**\n",
        "\n",
        "- Implementa funciones puras para diversas operaciones genómicas, como el alineamiento de secuencias, la identificación de variantes, y el cálculo de frecuencias genéticas.\n",
        "- Utiliza multiprocessing.Pool para distribuir el procesamiento de datos a múltiples núcleos de procesador, permitiendo que grandes conjuntos de datos se analicen rápidamente.\n",
        "- Integra asyncio para manejar eficientemente las entradas/salidas, especialmente para cargar y guardar grandes conjuntos de datos genómicos.\n",
        "- Implementa un sistema de CI/CD que automatice las pruebas, valide la integridad del código, y orqueste la implementación de la infraestructura necesaria en un entorno de computación en la nube.\n",
        "\n",
        "**Sugerencias:**\n",
        "\n",
        "1 . Funciones puras para el procesamiento genómico\n",
        "\n",
        "Empezamos definiendo algunas funciones puras para tareas comunes en el análisis genómico, como el filtrado de variantes genéticas y el cálculo de frecuencias alélicas:"
      ]
    },
    {
      "cell_type": "code",
      "execution_count": null,
      "id": "cd7400b6-a68a-4052-9317-75f2c29679ea",
      "metadata": {
        "id": "cd7400b6-a68a-4052-9317-75f2c29679ea"
      },
      "outputs": [],
      "source": [
        "def filter_variants(variants, min_depth=10, min_quality=20):\n",
        "    \"\"\"Filtra variantes genéticas basadas en profundidad y calidad.\"\"\"\n",
        "    return [variant for variant in variants if variant['depth'] >= min_depth and variant['quality'] >= min_quality]\n",
        "\n",
        "def calculate_allele_frequencies(variants):\n",
        "    \"\"\"Calcula las frecuencias alélicas de un conjunto de variantes genéticas.\"\"\"\n",
        "    allele_counts = {}\n",
        "    for variant in variants:\n",
        "        alleles = variant['alleles']\n",
        "        for allele in alleles:\n",
        "            if allele in allele_counts:\n",
        "                allele_counts[allele] += 1\n",
        "            else:\n",
        "                allele_counts[allele] = 1\n",
        "    total_alleles = sum(allele_counts.values())\n",
        "    return {allele: count / total_alleles for allele, count in allele_counts.items()}\n"
      ]
    },
    {
      "cell_type": "markdown",
      "id": "d2daec73-3369-431e-bbd0-c0a8ab275c90",
      "metadata": {
        "id": "d2daec73-3369-431e-bbd0-c0a8ab275c90"
      },
      "source": [
        "2 . Uso de multiprocessing para procesamiento paralelo de datos\n",
        "\n",
        "Para manejar el procesamiento de grandes volúmenes de datos, utilizaremos el módulo multiprocessing para distribuir la carga de trabajo entre múltiples procesos:"
      ]
    },
    {
      "cell_type": "code",
      "execution_count": null,
      "id": "92b93d86-f0d8-4c86-bee5-cff7aab8ad9a",
      "metadata": {
        "id": "92b93d86-f0d8-4c86-bee5-cff7aab8ad9a"
      },
      "outputs": [],
      "source": [
        "from multiprocessing import Pool\n",
        "\n",
        "def process_genomic_data(data):\n",
        "    \"\"\"Procesa datos genómicos en paralelo utilizando múltiples procesos.\"\"\"\n",
        "    with Pool(processes=4) as pool:\n",
        "        results = pool.map(process_sample, data)\n",
        "    return results\n",
        "\n",
        "def process_sample(sample):\n",
        "    \"\"\"Procesa un único conjunto de datos genómicos.\"\"\"\n",
        "    filtered_variants = filter_variants(sample['variants'])\n",
        "    allele_frequencies = calculate_allele_frequencies(filtered_variants)\n",
        "    return {'sample_id': sample['id'], 'allele_frequencies': allele_frequencies}\n"
      ]
    },
    {
      "cell_type": "markdown",
      "id": "6e90e232-f1cf-4187-ad60-6b1848ed5b03",
      "metadata": {
        "id": "6e90e232-f1cf-4187-ad60-6b1848ed5b03"
      },
      "source": [
        "3 . Integración con asyncio para entrada/salida asincrónica\n",
        "\n",
        "Integraremos asyncio para realizar operaciones de E/S de manera eficiente, especialmente útil cuando se trata de leer y escribir grandes archivos de datos genómicos:"
      ]
    },
    {
      "cell_type": "code",
      "execution_count": null,
      "id": "e36cc034-beee-4311-b831-f12a53f073ff",
      "metadata": {
        "id": "e36cc034-beee-4311-b831-f12a53f073ff"
      },
      "outputs": [],
      "source": [
        "import asyncio\n",
        "\n",
        "async def load_genomic_data(file_path):\n",
        "    \"\"\"Carga datos genómicos de forma asíncrona.\"\"\"\n",
        "    # Simulación: en un caso real, se leerían los datos de un archivo\n",
        "    return [\n",
        "        {'id': 'sample1', 'variants': [{'depth': 15, 'quality': 30, 'alleles': ['A', 'T']}, {'depth': 20, 'quality': 25, 'alleles': ['G', 'C']}]},\n",
        "        {'id': 'sample2', 'variants': [{'depth': 12, 'quality': 22, 'alleles': ['T', 'T']}, {'depth': 18, 'quality': 28, 'alleles': ['A', 'C']}]}\n",
        "    ]\n",
        "\n",
        "async def analyze_genomic_data(file_path):\n",
        "    \"\"\"Analiza datos genómicos utilizando funciones asincrónicas y paralelismo.\"\"\"\n",
        "    data = await load_genomic_data(file_path)\n",
        "    results = await asyncio.get_event_loop().run_in_executor(None, process_genomic_data, data)\n",
        "    for result in results:\n",
        "        print(result)\n",
        "\n",
        "if __name__ == \"__main__\":\n",
        "    asyncio.run(analyze_genomic_data('path_to_genomic_data.txt'))\n"
      ]
    },
    {
      "cell_type": "markdown",
      "id": "6bf2e905-4b1a-400c-9774-11af34888ec1",
      "metadata": {
        "id": "6bf2e905-4b1a-400c-9774-11af34888ec1"
      },
      "source": [
        "#### Ejercicio 6: Simulador de mercados financieros en tiempo real\n",
        "\n",
        "Desarrolla un simulador de mercados financieros que pueda procesar y analizar datos bursátiles en tiempo real, usando programación funcional para las operaciones de cálculo y asyncio para manejar datos de múltiples fuentes.\n",
        "\n",
        "**Descripción:**\n",
        "\n",
        "- Diseña funciones puras para calcular indicadores financieros, como medias móviles, RSI, y bandas de Bollinger.\n",
        "- Emplea asyncio para recibir datos de mercado en tiempo real de múltiples intercambios y fuentes de información.\n",
        "- Aplica concurrent.futures.ThreadPoolExecutor para realizar análisis técnico en paralelo y generar señales de trading.\n",
        "\n",
        "Desafío:\n",
        "\n",
        "- Crear un pipeline de CI/CD para probar automáticamente la lógica del simulador, realizar backtesting periódico, y desplegar actualizaciones del simulador en un entorno de nube seguro y escalable.\n",
        "\n",
        "**Sugerencias:**\n",
        "\n",
        "1 . Funciones Puras para análisis financiero\n",
        "\n",
        "Empezamos definiendo algunas funciones puras para realizar cálculos financieros comunes, como el cálculo de la media móvil y el índice de fuerza relativa (RSI):\n",
        "\n"
      ]
    },
    {
      "cell_type": "code",
      "execution_count": null,
      "id": "8bea2056-ccee-4bab-a1b3-2c46362e5c87",
      "metadata": {
        "id": "8bea2056-ccee-4bab-a1b3-2c46362e5c87"
      },
      "outputs": [],
      "source": [
        "def calculate_moving_average(prices, window_size=20):\n",
        "    \"\"\"Calcula la media móvil simple de los precios.\"\"\"\n",
        "    if len(prices) < window_size:\n",
        "        return None  # No hay suficientes datos para calcular la media móvil\n",
        "    return sum(prices[-window_size:]) / window_size\n",
        "\n",
        "def calculate_rsi(prices, periods=14):\n",
        "    \"\"\"Calcula el índice de fuerza relativa (RSI) para una lista de precios.\"\"\"\n",
        "    if len(prices) < periods:\n",
        "        return None  # No hay suficientes datos para calcular el RSI\n",
        "\n",
        "    gains = [max(0, prices[i] - prices[i - 1]) for i in range(1, len(prices))]\n",
        "    losses = [max(0, prices[i - 1] - prices[i]) for i in range(1, len(prices))]\n",
        "\n",
        "    average_gain = sum(gains[-periods:]) / periods\n",
        "    average_loss = sum(losses[-periods:]) / periods\n",
        "\n",
        "    if average_loss == 0:\n",
        "        return 100  # Evitar división por cero\n",
        "    rs = average_gain / average_loss\n",
        "    rsi = 100 - (100 / (1 + rs))\n",
        "    return rsi\n"
      ]
    },
    {
      "cell_type": "markdown",
      "id": "6811c48b-bc1c-4e33-ae2b-127a3b29c89a",
      "metadata": {
        "id": "6811c48b-bc1c-4e33-ae2b-127a3b29c89a"
      },
      "source": [
        "2 . Uso de concurrent.futures para paralelizar el análisis\n",
        "\n",
        "Utilizaremos ThreadPoolExecutor para procesar y analizar los datos financieros en paralelo:"
      ]
    },
    {
      "cell_type": "code",
      "execution_count": null,
      "id": "f9782125-29a9-4cea-9e8a-a2f68e628bcf",
      "metadata": {
        "id": "f9782125-29a9-4cea-9e8a-a2f68e628bcf"
      },
      "outputs": [],
      "source": [
        "from concurrent.futures import ThreadPoolExecutor\n",
        "\n",
        "def parallel_analyze_data(stock_data):\n",
        "    \"\"\"Analiza datos bursátiles en paralelo.\"\"\"\n",
        "    with ThreadPoolExecutor(max_workers=10) as executor:\n",
        "        results = list(executor.map(analyze_stock, stock_data))\n",
        "    return results\n",
        "\n",
        "def analyze_stock(data):\n",
        "    \"\"\"Analiza los datos de un solo stock.\"\"\"\n",
        "    moving_average = calculate_moving_average(data['prices'])\n",
        "    rsi = calculate_rsi(data['prices'])\n",
        "    return {'stock': data['stock'], 'moving_average': moving_average, 'RSI': rsi}\n"
      ]
    },
    {
      "cell_type": "markdown",
      "id": "90649853-adea-4652-ab60-f63f90d34aab",
      "metadata": {
        "id": "90649853-adea-4652-ab60-f63f90d34aab"
      },
      "source": [
        "3 . Integración con asyncio para manejo asíncrono y streaming\n",
        "\n",
        "Integraremos asyncio para simular la recepción de datos bursátiles en tiempo real y para manejar los datos asincrónicamente:"
      ]
    },
    {
      "cell_type": "code",
      "execution_count": null,
      "id": "842b0d7b-4baf-4bb9-941e-67c7b3627412",
      "metadata": {
        "id": "842b0d7b-4baf-4bb9-941e-67c7b3627412"
      },
      "outputs": [],
      "source": [
        "import asyncio\n",
        "\n",
        "async def stream_stock_data():\n",
        "    \"\"\"Simula la recepción de datos bursátiles en tiempo real.\"\"\"\n",
        "    example_data = [\n",
        "        {'stock': 'AAPL', 'prices': [150, 151, 152, 153, 154]},\n",
        "        {'stock': 'GOOGL', 'prices': [1200, 1202, 1204, 1206, 1208]}\n",
        "    ]\n",
        "    while True:\n",
        "        await asyncio.sleep(1)  # Simular la recepción de datos cada segundo\n",
        "        processed_data = await asyncio.get_event_loop().run_in_executor(None, parallel_analyze_data, example_data)\n",
        "        print(\"Processed Data:\", processed_data)\n",
        "\n",
        "if __name__ == \"__main__\":\n",
        "    asyncio.run(stream_stock_data())\n"
      ]
    }
  ],
  "metadata": {
    "kernelspec": {
      "display_name": "Python 3 (ipykernel)",
      "language": "python",
      "name": "python3"
    },
    "language_info": {
      "codemirror_mode": {
        "name": "ipython",
        "version": 3
      },
      "file_extension": ".py",
      "mimetype": "text/x-python",
      "name": "python",
      "nbconvert_exporter": "python",
      "pygments_lexer": "ipython3",
      "version": "3.8.13"
    },
    "colab": {
      "provenance": []
    }
  },
  "nbformat": 4,
  "nbformat_minor": 5
}