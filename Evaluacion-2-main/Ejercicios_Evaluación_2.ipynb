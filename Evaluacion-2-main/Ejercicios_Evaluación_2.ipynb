{
  "nbformat": 4,
  "nbformat_minor": 0,
  "metadata": {
    "colab": {
      "provenance": []
    },
    "kernelspec": {
      "name": "python3",
      "display_name": "Python 3"
    },
    "language_info": {
      "name": "python"
    }
  },
  "cells": [
    {
      "cell_type": "markdown",
      "source": [
        "**Uso Básico de Threads**"
      ],
      "metadata": {
        "id": "C9zyBZrGvR7i"
      }
    },
    {
      "cell_type": "code",
      "execution_count": null,
      "metadata": {
        "colab": {
          "base_uri": "https://localhost:8080/"
        },
        "id": "7Cple8mVvOxL",
        "outputId": "1f5ada70-8d69-43d4-833b-582ef283e382"
      },
      "outputs": [
        {
          "output_type": "stream",
          "name": "stdout",
          "text": [
            "Hola, Lara. Este es un thread ejecutándose.\n",
            "Hola, Bob. Este es un thread ejecutándose.\n",
            "Threads finalizados.\n"
          ]
        }
      ],
      "source": [
        "import threading\n",
        "\n",
        "def tarea(nombre):\n",
        "    print(f\"Hola, {nombre}. Este es un thread ejecutándose.\")\n",
        "\n",
        "# Crear threads\n",
        "thread1 = threading.Thread(target=tarea, args=(\"Lara\",))\n",
        "thread2 = threading.Thread(target=tarea, args=(\"Bob\",))\n",
        "\n",
        "# Iniciar threads\n",
        "thread1.start()\n",
        "thread2.start()\n",
        "\n",
        "# Esperar a que los threads terminen\n",
        "thread1.join()\n",
        "thread2.join()\n",
        "\n",
        "print(\"Threads finalizados.\")\n"
      ]
    },
    {
      "cell_type": "markdown",
      "source": [
        "**Multiprocesamiento y Pool de Trabajadores**"
      ],
      "metadata": {
        "id": "okYbcZzEvlrr"
      }
    },
    {
      "cell_type": "code",
      "source": [
        "from multiprocessing import Pool\n",
        "\n",
        "def tarea(x):\n",
        "    return x*x\n",
        "\n",
        "# Número de procesos en el Pool\n",
        "num_procesos = 4\n",
        "\n",
        "with Pool(num_procesos) as p:\n",
        "    resultados = p.map(tarea, range(10))\n",
        "    print(resultados)\n"
      ],
      "metadata": {
        "colab": {
          "base_uri": "https://localhost:8080/"
        },
        "id": "YMlQUBhnvlUS",
        "outputId": "cab30704-3dba-442e-f991-786b4e17498a"
      },
      "execution_count": null,
      "outputs": [
        {
          "output_type": "stream",
          "name": "stdout",
          "text": [
            "[0, 1, 4, 9, 16, 25, 36, 49, 64, 81]\n"
          ]
        }
      ]
    },
    {
      "cell_type": "markdown",
      "source": [
        "**Asyncio Básico**"
      ],
      "metadata": {
        "id": "6s_kO5G8vtgm"
      }
    },
    {
      "cell_type": "code",
      "source": [
        "import asyncio\n",
        "\n",
        "async def tarea(nombre):\n",
        "    print(f'{nombre}: Inicia')\n",
        "    await asyncio.sleep(1)  # Simular I/O\n",
        "    print(f'{nombre}: Finaliza')\n",
        "\n",
        "async def principal():\n",
        "    await asyncio.gather(tarea('Tarea 1'), tarea('Tarea 2'))\n",
        "\n",
        "# Usar get_event_loop() para obtener el bucle de eventos en ejecución y luego run_until_complete() para ejecutar la corutina principal\n",
        "loop = asyncio.get_event_loop()\n",
        "\n"
      ],
      "metadata": {
        "id": "2qN5tmAivtrv"
      },
      "execution_count": null,
      "outputs": []
    },
    {
      "cell_type": "code",
      "source": [
        "await principal()\n"
      ],
      "metadata": {
        "colab": {
          "base_uri": "https://localhost:8080/"
        },
        "id": "LzmVp4SBwC1w",
        "outputId": "036093f0-0b50-4864-a407-db253cf63872"
      },
      "execution_count": null,
      "outputs": [
        {
          "output_type": "stream",
          "name": "stdout",
          "text": [
            "Tarea 1: Inicia\n",
            "Tarea 2: Inicia\n",
            "Tarea 1: Finaliza\n",
            "Tarea 2: Finaliza\n"
          ]
        }
      ]
    },
    {
      "cell_type": "markdown",
      "source": [
        "**Uso de Futures en Concurrent**"
      ],
      "metadata": {
        "id": "1K9Bun5LwMx9"
      }
    },
    {
      "cell_type": "code",
      "source": [
        "from concurrent.futures import ThreadPoolExecutor\n",
        "\n",
        "def tarea(nombre):\n",
        "    print(f\"Hola, {nombre}. Este es un thread ejecutándose.\")\n",
        "\n",
        "with ThreadPoolExecutor(max_workers=2) as executor:\n",
        "    executor.submit(tarea, \"Lara\")\n",
        "    executor.submit(tarea, \"Bob\")\n"
      ],
      "metadata": {
        "colab": {
          "base_uri": "https://localhost:8080/"
        },
        "id": "nLgRzom3wT9Y",
        "outputId": "65cc8cad-4a29-4b5e-a007-233d8d835bcf"
      },
      "execution_count": null,
      "outputs": [
        {
          "output_type": "stream",
          "name": "stdout",
          "text": [
            "Hola, Lara. Este es un thread ejecutándose.\n",
            "Hola, Bob. Este es un thread ejecutándose.\n"
          ]
        }
      ]
    },
    {
      "cell_type": "markdown",
      "source": [
        "**Uso de Futures en Concurrent**\n"
      ],
      "metadata": {
        "id": "CPilKwEiw17K"
      }
    },
    {
      "cell_type": "code",
      "source": [
        "from concurrent.futures import ThreadPoolExecutor\n",
        "\n",
        "def tarea(n):\n",
        "    return n * n\n",
        "\n",
        "# Usando ThreadPoolExecutor\n",
        "with ThreadPoolExecutor(max_workers=5) as executor:\n",
        "    futures = [executor.submit(tarea, i) for i in range(10)]\n",
        "    resultados = [f.result() for f in futures]\n",
        "\n",
        "print(resultados)\n"
      ],
      "metadata": {
        "colab": {
          "base_uri": "https://localhost:8080/"
        },
        "id": "bJ9uvemTw6vM",
        "outputId": "64e012b1-3a53-4939-8387-85d0c3e03810"
      },
      "execution_count": null,
      "outputs": [
        {
          "output_type": "stream",
          "name": "stdout",
          "text": [
            "[0, 1, 4, 9, 16, 25, 36, 49, 64, 81]\n"
          ]
        }
      ]
    },
    {
      "cell_type": "markdown",
      "source": [
        "**Programación Distribuida con Dask**\n"
      ],
      "metadata": {
        "id": "yIKKJ2YexRiZ"
      }
    },
    {
      "cell_type": "code",
      "source": [
        "!pip install dask\n",
        "\n",
        "import dask.dataframe as dd\n",
        "\n",
        "# Crear un Dask DataFrame\n",
        "ddf = dd.demo.make_timeseries()\n",
        "\n",
        "# Realizar una operación simple\n",
        "resultado = ddf.groupby('name').x.std().compute()\n",
        "\n",
        "print(resultado)\n"
      ],
      "metadata": {
        "colab": {
          "base_uri": "https://localhost:8080/"
        },
        "id": "9tqQCfROxVPM",
        "outputId": "c06b087a-4f25-46aa-8c9a-f4d7407c284b"
      },
      "execution_count": null,
      "outputs": [
        {
          "output_type": "stream",
          "name": "stdout",
          "text": [
            "Requirement already satisfied: dask in /usr/local/lib/python3.10/dist-packages (2023.8.1)\n",
            "Requirement already satisfied: click>=8.0 in /usr/local/lib/python3.10/dist-packages (from dask) (8.1.7)\n",
            "Requirement already satisfied: cloudpickle>=1.5.0 in /usr/local/lib/python3.10/dist-packages (from dask) (2.2.1)\n",
            "Requirement already satisfied: fsspec>=2021.09.0 in /usr/local/lib/python3.10/dist-packages (from dask) (2023.6.0)\n",
            "Requirement already satisfied: packaging>=20.0 in /usr/local/lib/python3.10/dist-packages (from dask) (24.0)\n",
            "Requirement already satisfied: partd>=1.2.0 in /usr/local/lib/python3.10/dist-packages (from dask) (1.4.1)\n",
            "Requirement already satisfied: pyyaml>=5.3.1 in /usr/local/lib/python3.10/dist-packages (from dask) (6.0.1)\n",
            "Requirement already satisfied: toolz>=0.10.0 in /usr/local/lib/python3.10/dist-packages (from dask) (0.12.1)\n",
            "Requirement already satisfied: importlib-metadata>=4.13.0 in /usr/local/lib/python3.10/dist-packages (from dask) (7.1.0)\n",
            "Requirement already satisfied: zipp>=0.5 in /usr/local/lib/python3.10/dist-packages (from importlib-metadata>=4.13.0->dask) (3.18.1)\n",
            "Requirement already satisfied: locket in /usr/local/lib/python3.10/dist-packages (from partd>=1.2.0->dask) (1.0.0)\n",
            "name\n",
            "Alice       0.578407\n",
            "Bob         0.578626\n",
            "Charlie     0.578801\n",
            "Dan         0.576498\n",
            "Edith       0.577816\n",
            "Frank       0.577150\n",
            "George      0.578277\n",
            "Hannah      0.578255\n",
            "Ingrid      0.575962\n",
            "Jerry       0.578378\n",
            "Kevin       0.577381\n",
            "Laura       0.579052\n",
            "Michael     0.575481\n",
            "Norbert     0.578822\n",
            "Oliver      0.578169\n",
            "Patricia    0.578785\n",
            "Quinn       0.577213\n",
            "Ray         0.577238\n",
            "Sarah       0.578112\n",
            "Tim         0.576782\n",
            "Ursula      0.577455\n",
            "Victor      0.577665\n",
            "Wendy       0.576790\n",
            "Xavier      0.577006\n",
            "Yvonne      0.578619\n",
            "Zelda       0.577750\n",
            "Name: x, dtype: float64\n"
          ]
        }
      ]
    },
    {
      "cell_type": "markdown",
      "source": [
        "**Procesamiento Paralelo de Datos con Pandas y Dask**\n"
      ],
      "metadata": {
        "id": "PK0dLhC6xkBX"
      }
    },
    {
      "cell_type": "code",
      "source": [
        "import dask.dataframe as dd\n",
        "\n",
        "# Simular un DataFrame grande de Pandas\n",
        "pdf = dd.demo.make_timeseries().compute()\n",
        "\n",
        "# Convertirlo a un Dask DataFrame\n",
        "ddf = dd.from_pandas(pdf, npartitions=5)\n",
        "\n",
        "# Realizar una operación de grupo en paralelo\n",
        "resultado = ddf.groupby('name').x.std().compute()\n",
        "\n",
        "print(resultado)\n"
      ],
      "metadata": {
        "colab": {
          "base_uri": "https://localhost:8080/"
        },
        "id": "HNFmWmmjxon0",
        "outputId": "344be621-ec65-4b8e-8727-3f030021166b"
      },
      "execution_count": null,
      "outputs": [
        {
          "output_type": "stream",
          "name": "stdout",
          "text": [
            "name\n",
            "Alice       0.578111\n",
            "Bob         0.577810\n",
            "Charlie     0.577913\n",
            "Dan         0.577345\n",
            "Edith       0.577588\n",
            "Frank       0.574968\n",
            "George      0.576658\n",
            "Hannah      0.577658\n",
            "Ingrid      0.576754\n",
            "Jerry       0.577561\n",
            "Kevin       0.576638\n",
            "Laura       0.579005\n",
            "Michael     0.578141\n",
            "Norbert     0.578740\n",
            "Oliver      0.576780\n",
            "Patricia    0.578397\n",
            "Quinn       0.577903\n",
            "Ray         0.576601\n",
            "Sarah       0.578761\n",
            "Tim         0.576438\n",
            "Ursula      0.577881\n",
            "Victor      0.576440\n",
            "Wendy       0.577476\n",
            "Xavier      0.576941\n",
            "Yvonne      0.575976\n",
            "Zelda       0.577577\n",
            "Name: x, dtype: float64\n"
          ]
        }
      ]
    },
    {
      "cell_type": "markdown",
      "source": [
        "**Sockets para Comunicación en Red**\n"
      ],
      "metadata": {
        "id": "lfyl5SNkxrgp"
      }
    },
    {
      "cell_type": "code",
      "source": [
        "# Servidor\n",
        "import socket\n",
        "\n",
        "servidor = socket.socket(socket.AF_INET, socket.SOCK_STREAM)\n",
        "servidor.bind(('localhost', 8081))\n",
        "servidor.listen(1)\n",
        "\n",
        "conn, addr = servidor.accept()\n",
        "print(f\"Conectado por {addr}\")\n",
        "\n",
        "while True:\n",
        "    data = conn.recv(1024)\n",
        "    if not data: break\n",
        "    conn.sendall(data)\n",
        "\n",
        "conn.close()\n"
      ],
      "metadata": {
        "id": "Mxa_0vzrxslt"
      },
      "execution_count": null,
      "outputs": []
    },
    {
      "cell_type": "code",
      "source": [
        "# Cliente\n",
        "import socket\n",
        "\n",
        "cliente = socket.socket(socket.AF_INET, socket.SOCK_STREAM)\n",
        "cliente.connect(('localhost', 8081))\n",
        "\n",
        "cliente.sendall(b'Hola, mundo')\n",
        "data = cliente.recv(1024)\n",
        "\n",
        "print(f\"Recibido {data}\")\n",
        "\n",
        "cliente.close()\n"
      ],
      "metadata": {
        "colab": {
          "base_uri": "https://localhost:8080/",
          "height": 211
        },
        "id": "xRRpDzplx7A8",
        "outputId": "c0a7e9c3-9ebf-438c-e450-834ee71b475a"
      },
      "execution_count": null,
      "outputs": [
        {
          "output_type": "error",
          "ename": "ConnectionRefusedError",
          "evalue": "[Errno 111] Connection refused",
          "traceback": [
            "\u001b[0;31m---------------------------------------------------------------------------\u001b[0m",
            "\u001b[0;31mConnectionRefusedError\u001b[0m                    Traceback (most recent call last)",
            "\u001b[0;32m<ipython-input-21-dee0a6dc1522>\u001b[0m in \u001b[0;36m<cell line: 5>\u001b[0;34m()\u001b[0m\n\u001b[1;32m      3\u001b[0m \u001b[0;34m\u001b[0m\u001b[0m\n\u001b[1;32m      4\u001b[0m \u001b[0mcliente\u001b[0m \u001b[0;34m=\u001b[0m \u001b[0msocket\u001b[0m\u001b[0;34m.\u001b[0m\u001b[0msocket\u001b[0m\u001b[0;34m(\u001b[0m\u001b[0msocket\u001b[0m\u001b[0;34m.\u001b[0m\u001b[0mAF_INET\u001b[0m\u001b[0;34m,\u001b[0m \u001b[0msocket\u001b[0m\u001b[0;34m.\u001b[0m\u001b[0mSOCK_STREAM\u001b[0m\u001b[0;34m)\u001b[0m\u001b[0;34m\u001b[0m\u001b[0;34m\u001b[0m\u001b[0m\n\u001b[0;32m----> 5\u001b[0;31m \u001b[0mcliente\u001b[0m\u001b[0;34m.\u001b[0m\u001b[0mconnect\u001b[0m\u001b[0;34m(\u001b[0m\u001b[0;34m(\u001b[0m\u001b[0;34m'localhost'\u001b[0m\u001b[0;34m,\u001b[0m \u001b[0;36m8081\u001b[0m\u001b[0;34m)\u001b[0m\u001b[0;34m)\u001b[0m\u001b[0;34m\u001b[0m\u001b[0;34m\u001b[0m\u001b[0m\n\u001b[0m\u001b[1;32m      6\u001b[0m \u001b[0;34m\u001b[0m\u001b[0m\n\u001b[1;32m      7\u001b[0m \u001b[0mcliente\u001b[0m\u001b[0;34m.\u001b[0m\u001b[0msendall\u001b[0m\u001b[0;34m(\u001b[0m\u001b[0;34mb'Hola, mundo'\u001b[0m\u001b[0;34m)\u001b[0m\u001b[0;34m\u001b[0m\u001b[0;34m\u001b[0m\u001b[0m\n",
            "\u001b[0;31mConnectionRefusedError\u001b[0m: [Errno 111] Connection refused"
          ]
        }
      ]
    },
    {
      "cell_type": "markdown",
      "source": [
        "**Uso Avanzado de Asyncio**\n"
      ],
      "metadata": {
        "id": "LoC02e2ayIDS"
      }
    },
    {
      "cell_type": "code",
      "source": [
        "import asyncio\n",
        "\n",
        "async def manejar_cliente(reader, writer):\n",
        "    data = await reader.read(100)\n",
        "    mensaje = data.decode()\n",
        "    addr = writer.get_extra_info('peername')\n",
        "\n",
        "    print(f\"Recibido {mensaje} de {addr}\")\n",
        "\n",
        "    print(\"Cerrando la conexión\")\n",
        "    writer.close()\n",
        "\n",
        "async def main():\n",
        "    server = await asyncio.start_server(\n",
        "        manejar_cliente, '127.0.0.1', 8081)\n",
        "\n",
        "    addr = server.sockets[0].getsockname()\n",
        "    print(f'Sirviendo en {addr}')\n",
        "\n",
        "    async with server:\n",
        "        await server.serve_forever()\n",
        "\n",
        "# Directamente usando await sin asyncio.run()\n",
        "await main()\n",
        "\n"
      ],
      "metadata": {
        "colab": {
          "base_uri": "https://localhost:8080/",
          "height": 356
        },
        "id": "U2bkiHBryMBH",
        "outputId": "ec8d8a56-553e-40f4-c4bc-7bc9d29f4a30"
      },
      "execution_count": null,
      "outputs": [
        {
          "output_type": "stream",
          "name": "stdout",
          "text": [
            "Sirviendo en ('127.0.0.1', 8888)\n"
          ]
        },
        {
          "output_type": "error",
          "ename": "CancelledError",
          "evalue": "",
          "traceback": [
            "\u001b[0;31m---------------------------------------------------------------------------\u001b[0m",
            "\u001b[0;31mCancelledError\u001b[0m                            Traceback (most recent call last)",
            "\u001b[0;32m<ipython-input-20-c479aa7453d8>\u001b[0m in \u001b[0;36m<cell line: 24>\u001b[0;34m()\u001b[0m\n\u001b[1;32m     22\u001b[0m \u001b[0;34m\u001b[0m\u001b[0m\n\u001b[1;32m     23\u001b[0m \u001b[0;31m# Directamente usando await sin asyncio.run()\u001b[0m\u001b[0;34m\u001b[0m\u001b[0;34m\u001b[0m\u001b[0m\n\u001b[0;32m---> 24\u001b[0;31m \u001b[0;32mawait\u001b[0m \u001b[0mmain\u001b[0m\u001b[0;34m(\u001b[0m\u001b[0;34m)\u001b[0m\u001b[0;34m\u001b[0m\u001b[0;34m\u001b[0m\u001b[0m\n\u001b[0m\u001b[1;32m     25\u001b[0m \u001b[0;34m\u001b[0m\u001b[0m\n",
            "\u001b[0;32m<ipython-input-20-c479aa7453d8>\u001b[0m in \u001b[0;36mmain\u001b[0;34m()\u001b[0m\n\u001b[1;32m     19\u001b[0m \u001b[0;34m\u001b[0m\u001b[0m\n\u001b[1;32m     20\u001b[0m     \u001b[0;32masync\u001b[0m \u001b[0;32mwith\u001b[0m \u001b[0mserver\u001b[0m\u001b[0;34m:\u001b[0m\u001b[0;34m\u001b[0m\u001b[0;34m\u001b[0m\u001b[0m\n\u001b[0;32m---> 21\u001b[0;31m         \u001b[0;32mawait\u001b[0m \u001b[0mserver\u001b[0m\u001b[0;34m.\u001b[0m\u001b[0mserve_forever\u001b[0m\u001b[0;34m(\u001b[0m\u001b[0;34m)\u001b[0m\u001b[0;34m\u001b[0m\u001b[0;34m\u001b[0m\u001b[0m\n\u001b[0m\u001b[1;32m     22\u001b[0m \u001b[0;34m\u001b[0m\u001b[0m\n\u001b[1;32m     23\u001b[0m \u001b[0;31m# Directamente usando await sin asyncio.run()\u001b[0m\u001b[0;34m\u001b[0m\u001b[0;34m\u001b[0m\u001b[0m\n",
            "\u001b[0;32m/usr/lib/python3.10/asyncio/base_events.py\u001b[0m in \u001b[0;36mserve_forever\u001b[0;34m(self)\u001b[0m\n\u001b[1;32m    369\u001b[0m \u001b[0;34m\u001b[0m\u001b[0m\n\u001b[1;32m    370\u001b[0m         \u001b[0;32mtry\u001b[0m\u001b[0;34m:\u001b[0m\u001b[0;34m\u001b[0m\u001b[0;34m\u001b[0m\u001b[0m\n\u001b[0;32m--> 371\u001b[0;31m             \u001b[0;32mawait\u001b[0m \u001b[0mself\u001b[0m\u001b[0;34m.\u001b[0m\u001b[0m_serving_forever_fut\u001b[0m\u001b[0;34m\u001b[0m\u001b[0;34m\u001b[0m\u001b[0m\n\u001b[0m\u001b[1;32m    372\u001b[0m         \u001b[0;32mexcept\u001b[0m \u001b[0mexceptions\u001b[0m\u001b[0;34m.\u001b[0m\u001b[0mCancelledError\u001b[0m\u001b[0;34m:\u001b[0m\u001b[0;34m\u001b[0m\u001b[0;34m\u001b[0m\u001b[0m\n\u001b[1;32m    373\u001b[0m             \u001b[0;32mtry\u001b[0m\u001b[0;34m:\u001b[0m\u001b[0;34m\u001b[0m\u001b[0;34m\u001b[0m\u001b[0m\n",
            "\u001b[0;31mCancelledError\u001b[0m: "
          ]
        }
      ]
    }
  ]
}